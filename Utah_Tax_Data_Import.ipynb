{
 "cells": [
  {
   "cell_type": "code",
   "execution_count": 10,
   "metadata": {},
   "outputs": [
    {
     "name": "stdout",
     "output_type": "stream",
     "text": [
      "                 Month            County  Location Code         City  \\\n",
      "0  1998-01-01 00:00:00     Beaver County         1002.0  Beaver City   \n",
      "1  1998-01-01 00:00:00     Beaver County         1002.0  Beaver City   \n",
      "2  1998-01-01 00:00:00     Beaver County         1002.0  Beaver City   \n",
      "3  1998-01-01 00:00:00     Beaver County         1002.0  Beaver City   \n",
      "4  1998-01-01 00:00:00  Box Elder County         2017.0      Brigham   \n",
      "\n",
      "          Economic Supersector  Taxable Sales Unnamed: 6  \n",
      "0             Taxable Services      446755.63        NaN  \n",
      "1         Taxable Retail Trade      416092.61        NaN  \n",
      "2  Taxable Business Investment      145603.39        NaN  \n",
      "3      All Other Taxable Sales       70000.00          *  \n",
      "4             Taxable Services     2319265.04        NaN  \n"
     ]
    }
   ],
   "source": [
    "#!pip install pandas\n",
    "#!pip install openpyxl\n",
    "import pandas as pd\n",
    "\n",
    "# Specify the path to your Excel file\n",
    "file_path = \"data-sources/UT-State Tax monthly-sales-historical.xlsx\"\n",
    "\n",
    "# Read the Excel file\n",
    "df = pd.read_excel(file_path, sheet_name=\"Table 6\", skiprows=5)\n",
    "\n",
    "# Display the first few rows of the DataFrame\n",
    "print(df.head())\n",
    "\n"
   ]
  }
 ],
 "metadata": {
  "kernelspec": {
   "display_name": "dev",
   "language": "python",
   "name": "python3"
  },
  "language_info": {
   "codemirror_mode": {
    "name": "ipython",
    "version": 3
   },
   "file_extension": ".py",
   "mimetype": "text/x-python",
   "name": "python",
   "nbconvert_exporter": "python",
   "pygments_lexer": "ipython3",
   "version": "3.10.14"
  }
 },
 "nbformat": 4,
 "nbformat_minor": 2
}
